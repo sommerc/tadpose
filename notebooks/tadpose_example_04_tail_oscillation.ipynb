{
 "cells": [
  {
   "cell_type": "code",
   "execution_count": null,
   "metadata": {},
   "outputs": [],
   "source": [
    "import os\n",
    "import sys\n",
    "import glob\n",
    "import pywt\n",
    "import numpy\n",
    "import pandas\n",
    "import tadpose\n",
    "from tadpose import utils\n",
    "from scipy.signal import stft\n",
    "from tqdm.auto import tqdm, trange\n",
    "\n",
    "# mostly ploting\n",
    "import ipywidgets\n",
    "import seaborn as sns\n",
    "from tqdm.auto import tqdm\n",
    "from matplotlib import cm, colors\n",
    "from matplotlib import pyplot as plt\n",
    "\n",
    "# clustering and pca\n",
    "from sklearn.decomposition import PCA\n",
    "from sklearn.cluster import DBSCAN, KMeans\n",
    "from scipy.ndimage import gaussian_filter1d"
   ]
  },
  {
   "cell_type": "markdown",
   "metadata": {},
   "source": [
    "### Basic definitions\n",
    "* create a tadpole object\n",
    "* configure alignment"
   ]
  },
  {
   "cell_type": "code",
   "execution_count": null,
   "metadata": {
    "tags": []
   },
   "outputs": [],
   "source": [
    "# main input required. SLEAP naysis file is expected to be in same folder with ending \".predictions.analysis.h5\"\n",
    "video_fn = \"tail_oscillation/Tad2_Take3_oursNOGFP_St57.mp4\"\n",
    "video_fn = \"tail_oscillation/Tad2_Take4_oursNOGFP_St57.mp4\""
   ]
  },
  {
   "cell_type": "markdown",
   "metadata": {},
   "source": [
    "### Create tadpole and aligner"
   ]
  },
  {
   "cell_type": "code",
   "execution_count": null,
   "metadata": {},
   "outputs": [],
   "source": [
    "# create Tadpole object\n",
    "tadpole = tadpose.Tadpole.from_sleap(video_fn)\n",
    "\n",
    "# create aligner by giving to part names and their correpsonding alignment location\n",
    "aligner = tadpose.alignment.TadpoleAligner(\n",
    "    {\"tail_1\": numpy.array([0, 0.0]), \"heart\": numpy.array([0, 1.0])}, scale=False\n",
    ")\n",
    "tadpole.aligner = aligner"
   ]
  },
  {
   "cell_type": "code",
   "execution_count": null,
   "metadata": {},
   "outputs": [],
   "source": []
  },
  {
   "cell_type": "markdown",
   "metadata": {},
   "source": [
    "### Define skeleton of interest"
   ]
  },
  {
   "cell_type": "code",
   "execution_count": null,
   "metadata": {},
   "outputs": [],
   "source": [
    "cluster_columns = (\n",
    "    \"tail_1\",\n",
    "    \"tail_2\",\n",
    "    \"tail_3\",\n",
    "    \"tail_4\",\n",
    ")"
   ]
  },
  {
   "cell_type": "markdown",
   "metadata": {},
   "source": [
    "### Extract ego-centric lcoations"
   ]
  },
  {
   "cell_type": "code",
   "execution_count": null,
   "metadata": {},
   "outputs": [],
   "source": [
    "X = tadpole.ego_locs(parts=cluster_columns)\n",
    "X = X.reshape(X.shape[0], -1)\n",
    "X.shape"
   ]
  },
  {
   "cell_type": "markdown",
   "metadata": {},
   "source": [
    "### Do PCA"
   ]
  },
  {
   "cell_type": "code",
   "execution_count": null,
   "metadata": {},
   "outputs": [],
   "source": [
    "Xc = (X - X.mean(0)) / X.std(0)\n",
    "\n",
    "# PCA with N components\n",
    "N = 3\n",
    "Xp = numpy.zeros((len(X), N))\n",
    "\n",
    "# Xp will contain the PCA components\n",
    "pca = PCA(n_components=N)\n",
    "pca.fit(Xc)\n",
    "Xpca = pca.transform(Xc)"
   ]
  },
  {
   "cell_type": "markdown",
   "metadata": {},
   "source": [
    "### Plot randomly selected skeltons with color-coded PC"
   ]
  },
  {
   "cell_type": "code",
   "execution_count": null,
   "metadata": {},
   "outputs": [],
   "source": [
    "%matplotlib widget\n",
    "\n",
    "f, ax = plt.subplots()\n",
    "ax.set_aspect(1.0)\n",
    "\n",
    "# select PC component to plot\n",
    "pc = 0\n",
    "\n",
    "norm = colors.Normalize(vmin=-5, vmax=5, clip=True)\n",
    "for rand_ind in numpy.random.randint(X.shape[0], size=500):\n",
    "    points = X[rand_ind, :]\n",
    "    load = Xpca[rand_ind, pc]\n",
    "    color = cm.seismic(norm(load))\n",
    "    p = plt.plot(-points[::2].T, points[1::2].T, \".-\", alpha=0.2, color=color)\n",
    "\n",
    "plt.axis(\"off\")\n",
    "plt.title(\"Tracked tail points\")\n",
    "\n",
    "sm = plt.cm.ScalarMappable(cmap=\"seismic\", norm=norm)\n",
    "cbar = plt.colorbar(\n",
    "    sm,\n",
    "    fraction=0.033,\n",
    "    pad=0.04,\n",
    ")\n",
    "cbar.ax.set_ylabel(\"PC 0\")\n",
    "plt.savefig(\"01_tracked_tail_pc.png\", bbox_inches=\"tight\")"
   ]
  },
  {
   "cell_type": "markdown",
   "metadata": {},
   "source": [
    "### Smooth a little and compute gradient "
   ]
  },
  {
   "cell_type": "code",
   "execution_count": null,
   "metadata": {},
   "outputs": [],
   "source": [
    "pc0 = Xpca[:, 0:1]\n",
    "\n",
    "%matplotlib widget\n",
    "pc_s0 = utils.smooth(pc0, win=5, poly=3, deriv=0)\n",
    "pc_s1 = utils.smooth(pc0, win=5, poly=3, deriv=1)"
   ]
  },
  {
   "cell_type": "markdown",
   "metadata": {},
   "source": [
    "### Compute global speed = hearspeed"
   ]
  },
  {
   "cell_type": "code",
   "execution_count": null,
   "metadata": {},
   "outputs": [],
   "source": [
    "heart_speed = tadpose.analysis.speeds(tadpole, parts=(\"heart\",))"
   ]
  },
  {
   "cell_type": "markdown",
   "metadata": {},
   "source": [
    "### Interactive skelton viewer"
   ]
  },
  {
   "cell_type": "code",
   "execution_count": null,
   "metadata": {},
   "outputs": [],
   "source": [
    "%matplotlib widget\n",
    "\n",
    "\n",
    "def show_skleton_viewer(tadpole, X, Xp, video_shape=(800, 400)):\n",
    "    \"\"\"\n",
    "    Interactive viewer to visualize a skeleton from X together with scalar value \"Xp\".\n",
    "    Use left/right keys to go through time\n",
    "    \"\"\"\n",
    "\n",
    "    plt.ioff()\n",
    "    x_view = [-200, 200]\n",
    "    y_view = [-400, 100]\n",
    "\n",
    "    slider = ipywidgets.IntSlider(\n",
    "        description=\"Time (frame)\",\n",
    "        value=0,\n",
    "        min=0,\n",
    "        max=X.shape[0] - 1,\n",
    "        continuous_update=True,\n",
    "        style={\"min_width\": 5000},\n",
    "    )\n",
    "\n",
    "    fig, axs = plt.subplots(1, 2, figsize=(9, 5))\n",
    "    ax = axs[0]\n",
    "\n",
    "    # which pc-component to vizualize\n",
    "    pc = 0\n",
    "\n",
    "    # normalize colors for that component\n",
    "    norm = colors.Normalize(vmin=-5, vmax=5, clip=True)\n",
    "\n",
    "    def update_lines(change):\n",
    "        frame = change.new\n",
    "\n",
    "        points = X[frame, :]\n",
    "        pc_load = Xp[frame, pc]\n",
    "        color = cm.seismic(norm(pc_load))\n",
    "        ax.clear()\n",
    "\n",
    "        gray = tadpole.ego_image(\n",
    "            frame, dest_height=video_shape[0], dest_width=video_shape[1], rgb=False\n",
    "        )\n",
    "        ax.imshow(\n",
    "            gray,\n",
    "            \"gray\",\n",
    "            extent=(\n",
    "                -gray.shape[1] // 2,\n",
    "                gray.shape[1] // 2,\n",
    "                -gray.shape[0] // 2,\n",
    "                gray.shape[0] // 2,\n",
    "            ),\n",
    "        )\n",
    "\n",
    "        ax.set_xticks([])\n",
    "        ax.set_yticks([])\n",
    "\n",
    "        ax.plot(points[::2].T, points[1::2].T, \".-\", alpha=1, color=color)\n",
    "        ax.set_xlim(x_view[0], x_view[1])\n",
    "        ax.set_ylim(y_view[0], y_view[1])\n",
    "\n",
    "        grad = Xp[:, 0]\n",
    "\n",
    "        axs[1].clear()\n",
    "        axs[1].plot(grad, \"-\", color=\"gray\")\n",
    "        axs[1].plot(frame, grad[frame], \".\", color=\"red\")\n",
    "        axs[1].set_xlim(frame - 35, frame + 35)\n",
    "        axs[1].set_ylabel(\"PC 0\")\n",
    "        axs[1].set_xlabel(\"Time (frames)\")\n",
    "        axs[1].set_xticks([frame - 30, frame, frame + 30])\n",
    "        axs[1].set_xticklabels(list(map(str, [frame - 30, frame, frame + 30])))\n",
    "\n",
    "        fig.canvas.draw()\n",
    "        fig.canvas.flush_events()\n",
    "        \n",
    "        # plt.savefig(\n",
    "        #     f\"tad_tail_oscillation_anim/{tadpole.vid_fn}_{frame}.png\",\n",
    "        #     bbox_inches=\"tight\",\n",
    "        # )\n",
    "\n",
    "    slider.observe(update_lines, names=\"value\")\n",
    "    slider.value = 1\n",
    "\n",
    "    # for k in trange(6600, 7400):\n",
    "    #     slider.value = k\n",
    "\n",
    "    return ipywidgets.VBox([fig.canvas, slider])\n",
    "\n",
    "show_skleton_viewer(tadpole, X, pc_s0)"
   ]
  },
  {
   "cell_type": "code",
   "execution_count": null,
   "metadata": {},
   "outputs": [],
   "source": [
    "N = 32\n",
    "wavelet = \"morl\"\n",
    "\n",
    "fps = 60\n",
    "# create N=25 dyadically spaced scales, 25 is what they used in motionmapper\n",
    "Fc = pywt.central_frequency(wavelet)\n",
    "fps = 60\n",
    "sp = 1 / fps\n",
    "# scales = Fc / (numpy.arange(1, 30) * sp)\n",
    "if wavelet == \"morl\":\n",
    "    scales = numpy.power(2, numpy.linspace(1, 7, N))  # <- dyadic\n",
    "elif wavelet == \"mexh\":\n",
    "    scales = numpy.power(2, numpy.linspace(-0.4, 4, N))  # <- dyadic\n",
    "\n",
    "frequencies = pywt.scale2frequency(wavelet, scales) / sp\n",
    "\n",
    "# plot which scale correspond to which freq.\n",
    "%matplotlib widget\n",
    "f, ax = plt.subplots()\n",
    "ax.plot(scales, frequencies, \"b.\")\n",
    "ax.set_xlabel(\"Input scales for wavelet transform\")\n",
    "ax.set_ylabel(f\"Corresponding frequency at movie fps of {fps}\")\n",
    "print(f\"Scales range from {frequencies.min()} to {frequencies.max()} Hz\")"
   ]
  },
  {
   "cell_type": "code",
   "execution_count": null,
   "metadata": {},
   "outputs": [],
   "source": [
    "sig = pc_s1[:, 0]\n",
    "# sig = (sig - sig.mean()) / sig.std()\n",
    "coef_cwt, freqs_cwt = pywt.cwt(sig, scales, wavelet, sampling_period=1 / fps)\n",
    "coef_cwt = numpy.abs(coef_cwt)"
   ]
  },
  {
   "cell_type": "code",
   "execution_count": null,
   "metadata": {},
   "outputs": [],
   "source": [
    "%matplotlib widget\n",
    "\n",
    "y, x = numpy.mgrid[0 : coef_cwt.shape[0], 0 : coef_cwt.shape[1]]\n",
    "y = numpy.ones_like(y)\n",
    "y = (y.T * freqs_cwt).T\n",
    "plt.pcolor(x, y, (numpy.abs(coef_cwt)))\n",
    "plt.gca().set_aspect(400.0)\n",
    "# plt.gca().set_ylim(0, 10)"
   ]
  },
  {
   "cell_type": "code",
   "execution_count": null,
   "metadata": {},
   "outputs": [],
   "source": []
  },
  {
   "cell_type": "code",
   "execution_count": null,
   "metadata": {},
   "outputs": [],
   "source": [
    "%matplotlib widget\n",
    "spectrum, F, t, _ = plt.specgram(\n",
    "    pc_s0[:, 0],\n",
    "    Fs=60,\n",
    "    NFFT=256,\n",
    "    noverlap=128,\n",
    "    detrend=\"linear\",\n",
    "    scale=\"linear\",\n",
    "    # interpolation=\"nearest\",\n",
    ")\n",
    "spectrum.shape\n",
    "plt.gca().set_ylabel(\"Tail-beat frequency (Hz)\")\n",
    "plt.gca().set_xlabel(\"Time (secs)\")"
   ]
  },
  {
   "cell_type": "code",
   "execution_count": null,
   "metadata": {},
   "outputs": [],
   "source": [
    "%matplotlib widget\n",
    "f, axs = plt.subplots(1, 2, figsize=(12, 6))\n",
    "axs[0].bar(F, height=spectrum.mean(1))\n",
    "axs[0].set_xlim(0, 25)\n",
    "axs[0].set_ylabel(\"Mean squared power spectrum\")\n",
    "axs[0].set_xlabel(\"Tail-beat frequency (Hz)\")\n",
    "axs[0].set_title(\"Short-term Fourier transfrom from PC\")\n",
    "\n",
    "axs[1].bar(\n",
    "    freqs_cwt, height=coef_cwt[:, heart_speed.to_numpy().squeeze() > 0.5].mean(1)\n",
    ")\n",
    "axs[1].set_xlim(0, 25)\n",
    "axs[1].set_ylabel(\"Morlet wavelet coefficient\")\n",
    "axs[1].set_xlabel(\"Tail-beat frequency swimming (Hz) \")\n",
    "axs[1].set_title(\"Coninous wavelet transfrom from PC gradient\")\n",
    "for ax in axs:\n",
    "    sns.despine(ax=ax)\n",
    "plt.savefig(\"03_tail_beat_freqencies.png\", bbox_inches=\"tight\")"
   ]
  },
  {
   "cell_type": "code",
   "execution_count": null,
   "metadata": {},
   "outputs": [],
   "source": []
  }
 ],
 "metadata": {
  "kernelspec": {
   "display_name": "Python (base_new)",
   "language": "python",
   "name": "base_new"
  },
  "language_info": {
   "codemirror_mode": {
    "name": "ipython",
    "version": 3
   },
   "file_extension": ".py",
   "mimetype": "text/x-python",
   "name": "python",
   "nbconvert_exporter": "python",
   "pygments_lexer": "ipython3",
   "version": "3.8.10"
  }
 },
 "nbformat": 4,
 "nbformat_minor": 4
}
