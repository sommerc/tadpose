{
 "cells": [
  {
   "cell_type": "code",
   "execution_count": null,
   "metadata": {},
   "outputs": [],
   "source": [
    "import os\n",
    "import sys\n",
    "import glob\n",
    "import numpy\n",
    "import pandas\n",
    "from tqdm.auto import tqdm\n",
    "\n",
    "# analysis\n",
    "import tadpose\n",
    "from tadpose.analysis import BatchGrouper\n",
    "from tadpose.utils import create_experiment_table\n",
    "\n",
    "from scipy.ndimage import gaussian_filter1d\n",
    "\n",
    "# ploting\n",
    "import seaborn as sns\n",
    "from matplotlib import pyplot as plt"
   ]
  },
  {
   "cell_type": "code",
   "execution_count": null,
   "metadata": {},
   "outputs": [],
   "source": [
    "%load_ext autoreload\n",
    "%autoreload 2"
   ]
  },
  {
   "cell_type": "markdown",
   "metadata": {},
   "source": [
    "### Create experiment table (if not done before)"
   ]
  },
  {
   "cell_type": "code",
   "execution_count": null,
   "metadata": {},
   "outputs": [],
   "source": [
    "exp_table, exp_table_path = create_experiment_table()\n",
    "exp_table"
   ]
  },
  {
   "cell_type": "markdown",
   "metadata": {},
   "source": [
    "### Setup alinger"
   ]
  },
  {
   "cell_type": "code",
   "execution_count": null,
   "metadata": {},
   "outputs": [],
   "source": [
    "aligner = tadpose.alignment.TadpoleAligner(\n",
    "    {\"Tail_Stem\": numpy.array([0, 0.0]), \"Heart_Center\": numpy.array([0, 1.0])},\n",
    "    scale=False,\n",
    ")"
   ]
  },
  {
   "cell_type": "markdown",
   "metadata": {},
   "source": [
    "### BatchGrouper object"
   ]
  },
  {
   "cell_type": "code",
   "execution_count": null,
   "metadata": {},
   "outputs": [],
   "source": [
    "BG = BatchGrouper(\n",
    "    exp_table=\"B:/fs3-bifexchgrp/BIF_StaffSci/Christoph/sweengrp/WT-Series/dataset_01/dataset_01.tab\",\n",
    "    aligner=aligner,\n",
    "    output_grouped_by=\"Stage\",\n",
    ")"
   ]
  },
  {
   "cell_type": "markdown",
   "metadata": {},
   "source": [
    "### Iterate over batch grouper object\n",
    "each iteration will yield `(tad, grp, ind, row_info)`\n",
    "* tad: tadpole object\n",
    "* grp: name of the group\n",
    "* ind: index into experiment table (usefull for writing results back)\n",
    "* row_info: the row from the experiment table"
   ]
  },
  {
   "cell_type": "code",
   "execution_count": null,
   "metadata": {},
   "outputs": [],
   "source": [
    "# example\n",
    "\n",
    "for tad, grp, ind, row_info in tqdm(BG):\n",
    "\n",
    "    # get raw locations\n",
    "    heart_pos = tad.locs(parts=(\"Heart_Center\",)).squeeze()\n",
    "\n",
    "    # get difference of locations (i. e. displacment)\n",
    "    heart_displ = numpy.diff(heart_pos, axis=0)\n",
    "\n",
    "    # compute the length of those displacements\n",
    "    heart_speed = numpy.linalg.norm(heart_displ, axis=1)\n",
    "\n",
    "    # smooth a little (this must be done, since we have the frame drops problems)\n",
    "    heart_speed_sm = gaussian_filter1d(heart_speed, sigma=2)\n",
    "\n",
    "    # Threshold for moving vs. not moving\n",
    "    moving = heart_speed_sm > 1.5\n",
    "\n",
    "    # compute fraction of time spent moving\n",
    "    time_spent_moving = moving.sum() / len(heart_speed)\n",
    "\n",
    "    # time spent moving\n",
    "    BG.exp_table.loc[ind, \"TSM\"] = time_spent_moving\n",
    "    # average speed while moving\n",
    "    BG.exp_table.loc[ind, \"ASWM\"] = heart_speed_sm[moving].mean()\n",
    "    # total distance\n",
    "    BG.exp_table.loc[ind, \"TD\"] = heart_speed.sum()"
   ]
  },
  {
   "cell_type": "markdown",
   "metadata": {},
   "source": [
    "### The batch grouper will hold the table with the generated results"
   ]
  },
  {
   "cell_type": "code",
   "execution_count": null,
   "metadata": {},
   "outputs": [],
   "source": [
    "BG.exp_table"
   ]
  },
  {
   "cell_type": "markdown",
   "metadata": {},
   "source": [
    "### Plot examples on results table"
   ]
  },
  {
   "cell_type": "code",
   "execution_count": null,
   "metadata": {},
   "outputs": [],
   "source": [
    "for feature in [\"TSM\", \"ASWM\", \"TD\"]:\n",
    "    f, ax = plt.subplots()\n",
    "    sns.barplot(y=feature, x=\"Stage\", data=BG.exp_table, alpha=0.3, ax=ax)\n",
    "    sns.stripplot(y=feature, x=\"Stage\", data=BG.exp_table, ax=ax)\n",
    "    sns.despine(ax=ax)"
   ]
  },
  {
   "cell_type": "code",
   "execution_count": null,
   "metadata": {},
   "outputs": [],
   "source": []
  },
  {
   "cell_type": "code",
   "execution_count": null,
   "metadata": {},
   "outputs": [],
   "source": []
  }
 ],
 "metadata": {
  "kernelspec": {
   "display_name": "Python (base_new)",
   "language": "python",
   "name": "base_new"
  },
  "language_info": {
   "codemirror_mode": {
    "name": "ipython",
    "version": 3
   },
   "file_extension": ".py",
   "mimetype": "text/x-python",
   "name": "python",
   "nbconvert_exporter": "python",
   "pygments_lexer": "ipython3",
   "version": "3.8.10"
  }
 },
 "nbformat": 4,
 "nbformat_minor": 4
}
