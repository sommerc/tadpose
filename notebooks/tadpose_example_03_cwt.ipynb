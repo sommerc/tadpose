{
 "cells": [
  {
   "cell_type": "code",
   "execution_count": 1,
   "metadata": {},
   "outputs": [],
   "source": [
    "import os\n",
    "import sys\n",
    "import glob\n",
    "import time\n",
    "import numpy\n",
    "import pandas\n",
    "import tadpose\n",
    "\n",
    "# mostly ploting\n",
    "import ipywidgets\n",
    "import seaborn as sns\n",
    "from tqdm.auto import tqdm\n",
    "from matplotlib import cm, colors\n",
    "from matplotlib import pyplot as plt\n",
    "\n",
    "# umap and wavelets\n",
    "import umap  # ImportError -> pip install umap-learn\n",
    "import pywt  # ImportError -> pip install PyWavelets\n",
    "\n",
    "from skimage import filters\n",
    "from sklearn.decomposition import PCA\n",
    "from sklearn.manifold import TSNE\n",
    "from scipy.ndimage import gaussian_filter1d"
   ]
  },
  {
   "cell_type": "code",
   "execution_count": 2,
   "metadata": {},
   "outputs": [],
   "source": [
    "from tadpose import plot"
   ]
  },
  {
   "cell_type": "code",
   "execution_count": 3,
   "metadata": {},
   "outputs": [],
   "source": [
    "%load_ext autoreload\n",
    "%autoreload 2"
   ]
  },
  {
   "cell_type": "markdown",
   "metadata": {},
   "source": [
    "### 1. Select some videos "
   ]
  },
  {
   "cell_type": "code",
   "execution_count": 4,
   "metadata": {},
   "outputs": [
    {
     "data": {
      "text/plain": [
       "['B:/fs3-bifexchgrp/BIF_StaffSci/Christoph/sweengrp/Mara SLEAP/WT videos/WT-Frog-Videos\\\\Tad1_Take1_oursNOGFP_st59.mp4',\n",
       " 'B:/fs3-bifexchgrp/BIF_StaffSci/Christoph/sweengrp/Mara SLEAP/WT videos/WT-Frog-Videos\\\\Tad1_Take2_oursNOGFP_st59.mp4',\n",
       " 'B:/fs3-bifexchgrp/BIF_StaffSci/Christoph/sweengrp/Mara SLEAP/WT videos/WT-Frog-Videos\\\\Tad1_Take3_oursNOGFP_st59.mp4',\n",
       " 'B:/fs3-bifexchgrp/BIF_StaffSci/Christoph/sweengrp/Mara SLEAP/WT videos/WT-Frog-Videos\\\\Tad1_Take4_oursNOGFP_st59.mp4',\n",
       " 'B:/fs3-bifexchgrp/BIF_StaffSci/Christoph/sweengrp/Mara SLEAP/WT videos/WT-Frog-Videos\\\\Tad1_Take5_oursNOGFP_st59.mp4',\n",
       " 'B:/fs3-bifexchgrp/BIF_StaffSci/Christoph/sweengrp/Mara SLEAP/WT videos/WT-Frog-Videos\\\\Tad1_Take6_oursNOGFP_st59.mp4',\n",
       " 'B:/fs3-bifexchgrp/BIF_StaffSci/Christoph/sweengrp/Mara SLEAP/WT videos/WT-Frog-Videos\\\\Tad1_Take7_oursNOGFP_st59.mp4']"
      ]
     },
     "execution_count": 4,
     "metadata": {},
     "output_type": "execute_result"
    }
   ],
   "source": [
    "all_vids = glob.glob(\n",
    "    \"B:/fs3-bifexchgrp/BIF_StaffSci/Christoph/sweengrp/Mara SLEAP/WT videos/WT-Frog-Videos/*st59.mp4\"\n",
    ")\n",
    "all_vids"
   ]
  },
  {
   "cell_type": "markdown",
   "metadata": {},
   "source": [
    "### 2. Helper functions"
   ]
  },
  {
   "cell_type": "code",
   "execution_count": 5,
   "metadata": {},
   "outputs": [],
   "source": [
    "def get_tadpole(video_fn):\n",
    "    \"\"\"\n",
    "    Helper function to create a tadpole object from video file\n",
    "    with aligner\n",
    "    \"\"\"\n",
    "    tadpole = tadpose.Tadpole.from_sleap(video_fn)\n",
    "\n",
    "    # create aligner by giving to part names and their correpsonding alignment location\n",
    "    aligner = tadpose.alignment.TadpoleAligner(\n",
    "        {\"tail_stem\": numpy.array([0, 0.0]), \"heart\": numpy.array([0, 1.0])},\n",
    "        scale=False,\n",
    "    )\n",
    "    tadpole.aligner = aligner\n",
    "    return tadpole"
   ]
  },
  {
   "cell_type": "code",
   "execution_count": null,
   "metadata": {},
   "outputs": [],
   "source": [
    "tad = get_tadpole(all_vids[2])\n",
    "tad.bodyparts"
   ]
  },
  {
   "cell_type": "code",
   "execution_count": null,
   "metadata": {},
   "outputs": [],
   "source": [
    "heart_speed = tadpose.analysis.speeds(tad, parts=(\"heart\",))\n",
    "\n",
    "sm = tadpose.utils.smooth(heart_speed.to_numpy(), win=61)\n",
    "%matplotlib qt5\n",
    "heart_speed.plot()\n",
    "plt.plot(sm)"
   ]
  },
  {
   "cell_type": "code",
   "execution_count": 6,
   "metadata": {},
   "outputs": [],
   "source": [
    "fps = 60\n",
    "\n",
    "\n",
    "def get_spectrograms(tadpole, scales, wavlet=\"morl\", skel=None):\n",
    "    \"\"\"\n",
    "    Compute a wavelet based spectrogram from tadpole body parts\n",
    "    \"\"\"\n",
    "\n",
    "    if skel is None:\n",
    "        skel = tadpole.bodyparts.copy()\n",
    "        skel.remove(\"tail_stem\")\n",
    "        skel.remove(\"heart\")\n",
    "\n",
    "    # get aligned locatons for body parts in skel. Note 'skel' needs to be tuple (not list)\n",
    "    locs = tadpole.ego_locs(parts=tuple(skel))\n",
    "\n",
    "    heart_speed = tadpose.analysis.speeds(tadpole, parts=(\"heart\",))\n",
    "\n",
    "    # n == number of frames\n",
    "    n = len(locs)\n",
    "    x = numpy.arange(n)\n",
    "\n",
    "    # create spectrogram for each coordinate (x or y) of each body part\n",
    "    spectrogram = []\n",
    "\n",
    "    locs_smooth = tadpose.utils.smooth_gaussian(locs.reshape(n, -1), sigma=3, deriv=0)\n",
    "\n",
    "    for sig in locs_smooth.reshape(n, -1).T:\n",
    "        # compute complex spectrogram 'coef'. 'freqs' are the frequencies that correspond to the scales (when using fps)\n",
    "        coef, freqs = pywt.cwt(sig, scales, wavlet, sampling_period=1 / fps)\n",
    "        spectrogram.append(numpy.abs(coef).T)\n",
    "\n",
    "    spectrogram = numpy.concatenate(spectrogram, axis=1)\n",
    "    return spectrogram"
   ]
  },
  {
   "cell_type": "markdown",
   "metadata": {},
   "source": [
    "### 3. Choose scales for wavelet transfrom"
   ]
  },
  {
   "cell_type": "code",
   "execution_count": 10,
   "metadata": {},
   "outputs": [
    {
     "data": {
      "application/vnd.jupyter.widget-view+json": {
       "model_id": "61cdb2567f8e40be9f2f249bda8625b2",
       "version_major": 2,
       "version_minor": 0
      },
      "text/plain": [
       "Canvas(toolbar=Toolbar(toolitems=[('Home', 'Reset original view', 'home', 'home'), ('Back', 'Back to previous …"
      ]
     },
     "metadata": {},
     "output_type": "display_data"
    },
    {
     "name": "stdout",
     "output_type": "stream",
     "text": [
      "Scales range from 0.1904296875 to 24.375 Hz\n"
     ]
    }
   ],
   "source": [
    "N = 25\n",
    "wavelet = \"morl\"\n",
    "\n",
    "fps = 60\n",
    "# create N=25 dyadically spaced scales, 25 is what they used in motionmapper\n",
    "Fc = pywt.central_frequency(wavelet)\n",
    "fps = 60\n",
    "sp = 1 / fps\n",
    "# scales = Fc / (numpy.arange(1, 30) * sp)\n",
    "if wavelet == \"morl\":\n",
    "    scales = numpy.power(2, numpy.linspace(1, 8, N))  # <- dyadic\n",
    "elif wavelet == \"mexh\":\n",
    "    scales = numpy.power(2, numpy.linspace(-0.4, 4, N))  # <- dyadic\n",
    "\n",
    "frequencies = pywt.scale2frequency(wavelet, scales) / sp\n",
    "\n",
    "# plot which scale correspond to which freq.\n",
    "%matplotlib widget\n",
    "f, ax = plt.subplots()\n",
    "ax.plot(scales, frequencies, \"b.\")\n",
    "ax.set_xlabel(\"Input scales for wavelet transform\")\n",
    "ax.set_ylabel(f\"Corresponding frequency at movie fps of {fps}\")\n",
    "print(f\"Scales range from {frequencies.min()} to {frequencies.max()} Hz\")"
   ]
  },
  {
   "cell_type": "markdown",
   "metadata": {},
   "source": [
    "### 4. Compute spectrograms for all tadpoles"
   ]
  },
  {
   "cell_type": "code",
   "execution_count": 11,
   "metadata": {},
   "outputs": [
    {
     "name": "stdout",
     "output_type": "stream",
     "text": [
      "B:/fs3-bifexchgrp/BIF_StaffSci/Christoph/sweengrp/Mara SLEAP/WT videos/WT-Frog-Videos\\Tad1_Take1_oursNOGFP_st59.mp4\n",
      "B:/fs3-bifexchgrp/BIF_StaffSci/Christoph/sweengrp/Mara SLEAP/WT videos/WT-Frog-Videos\\Tad1_Take2_oursNOGFP_st59.mp4\n",
      "B:/fs3-bifexchgrp/BIF_StaffSci/Christoph/sweengrp/Mara SLEAP/WT videos/WT-Frog-Videos\\Tad1_Take3_oursNOGFP_st59.mp4\n",
      "B:/fs3-bifexchgrp/BIF_StaffSci/Christoph/sweengrp/Mara SLEAP/WT videos/WT-Frog-Videos\\Tad1_Take4_oursNOGFP_st59.mp4\n",
      "B:/fs3-bifexchgrp/BIF_StaffSci/Christoph/sweengrp/Mara SLEAP/WT videos/WT-Frog-Videos\\Tad1_Take5_oursNOGFP_st59.mp4\n",
      "B:/fs3-bifexchgrp/BIF_StaffSci/Christoph/sweengrp/Mara SLEAP/WT videos/WT-Frog-Videos\\Tad1_Take6_oursNOGFP_st59.mp4\n",
      "B:/fs3-bifexchgrp/BIF_StaffSci/Christoph/sweengrp/Mara SLEAP/WT videos/WT-Frog-Videos\\Tad1_Take7_oursNOGFP_st59.mp4\n",
      "all_spectrograms.shape (75217, 250)\n"
     ]
    }
   ],
   "source": [
    "tail_parts = [\n",
    "    \"tail_1\",\n",
    "    \"tail_2\",\n",
    "    \"tail_3\",\n",
    "    \"tail_4\",\n",
    "    \"tail_tip\",\n",
    "]\n",
    "\n",
    "\n",
    "Tadpoles = []\n",
    "Spectrograms = []\n",
    "for video_fn in all_vids:\n",
    "    print(video_fn)\n",
    "    tadpole = get_tadpole(video_fn)\n",
    "    Tadpoles.append(tadpole)\n",
    "    spec = get_spectrograms(\n",
    "        tadpole, scales, skel=tail_parts\n",
    "    )  # use 'skel=[\"left_leg\", ...]'' for reduced body part list\n",
    "    Spectrograms.append(spec)\n",
    "\n",
    "# Merge all spectrograms into single matrix\n",
    "all_spectrograms = numpy.concatenate(Spectrograms)\n",
    "print(\"all_spectrograms.shape\", all_spectrograms.shape)"
   ]
  },
  {
   "cell_type": "code",
   "execution_count": null,
   "metadata": {},
   "outputs": [],
   "source": []
  },
  {
   "cell_type": "code",
   "execution_count": 12,
   "metadata": {},
   "outputs": [
    {
     "name": "stdout",
     "output_type": "stream",
     "text": [
      "Warning: Cannot change to a different GUI toolkit: qt5. Using widget instead.\n"
     ]
    },
    {
     "data": {
      "application/vnd.jupyter.widget-view+json": {
       "model_id": "fd24e4a7f8164e5b973d275525e6d254",
       "version_major": 2,
       "version_minor": 0
      },
      "text/plain": [
       "Canvas(toolbar=Toolbar(toolitems=[('Home', 'Reset original view', 'home', 'home'), ('Back', 'Back to previous …"
      ]
     },
     "metadata": {},
     "output_type": "display_data"
    },
    {
     "data": {
      "text/plain": [
       "Text(0.5, 0, 'Spectrogram values of skels')"
      ]
     },
     "execution_count": 12,
     "metadata": {},
     "output_type": "execute_result"
    }
   ],
   "source": [
    "# show a single spectrogram\n",
    "%matplotlib qt5\n",
    "f, ax = plt.subplots()\n",
    "ax.imshow(Spectrograms[0], aspect=\"auto\")\n",
    "ax.set_ylabel(\"Time (frames)\")\n",
    "ax.set_xlabel(\"Spectrogram values of skels\")"
   ]
  },
  {
   "cell_type": "markdown",
   "metadata": {},
   "source": [
    "### 5. Reduce dimensions of spectrograms with PCA"
   ]
  },
  {
   "cell_type": "code",
   "execution_count": 13,
   "metadata": {},
   "outputs": [
    {
     "name": "stdout",
     "output_type": "stream",
     "text": [
      "PCA reduced dimension from (75217, 250) to (75217, 75)\n"
     ]
    }
   ],
   "source": [
    "# The data to reduce\n",
    "X = all_spectrograms.copy()\n",
    "\n",
    "# get means and std\n",
    "Xmeans = X.mean(0)\n",
    "Xstds = X.std(0)\n",
    "\n",
    "# z-score data for pca\n",
    "Xzs = (X - Xmeans) / Xstds\n",
    "\n",
    "# compute global PCA such that 95% of variance is explained\n",
    "pca = PCA(n_components=0.95)\n",
    "Xpca = pca.fit_transform(Xzs)\n",
    "\n",
    "print(f\"PCA reduced dimension from {X.shape} to {Xpca.shape}\")\n",
    "\n",
    "# transfrom each single spectrogram with the global PCA\n",
    "Xpcas = [pca.transform((spec - Xmeans) / Xstds) for spec in Spectrograms]"
   ]
  },
  {
   "cell_type": "code",
   "execution_count": 24,
   "metadata": {},
   "outputs": [
    {
     "name": "stdout",
     "output_type": "stream",
     "text": [
      "Warning: Cannot change to a different GUI toolkit: qt5. Using widget instead.\n"
     ]
    },
    {
     "data": {
      "application/vnd.jupyter.widget-view+json": {
       "model_id": "e779fea8c7964756818c0bf6ee179913",
       "version_major": 2,
       "version_minor": 0
      },
      "text/plain": [
       "Canvas(toolbar=Toolbar(toolitems=[('Home', 'Reset original view', 'home', 'home'), ('Back', 'Back to previous …"
      ]
     },
     "metadata": {},
     "output_type": "display_data"
    },
    {
     "data": {
      "text/plain": [
       "[<matplotlib.lines.Line2D at 0x2280f369850>]"
      ]
     },
     "execution_count": 24,
     "metadata": {},
     "output_type": "execute_result"
    }
   ],
   "source": [
    "%matplotlib qt5\n",
    "plt.plot(Xpca[:, 1], Xpca[:, 0], \".\", alpha=0.1)"
   ]
  },
  {
   "cell_type": "markdown",
   "metadata": {},
   "source": [
    "#### 6 UMAP"
   ]
  },
  {
   "cell_type": "code",
   "execution_count": 25,
   "metadata": {},
   "outputs": [],
   "source": [
    "# global umap\n",
    "mapper = umap.UMAP(n_components=2)\n",
    "Xumap = mapper.fit_transform(Xpca)\n",
    "\n",
    "# single umap transforms\n",
    "Xumaps = [mapper.transform(xpca) for xpca in Xpcas]"
   ]
  },
  {
   "cell_type": "code",
   "execution_count": 26,
   "metadata": {},
   "outputs": [
    {
     "data": {
      "application/vnd.jupyter.widget-view+json": {
       "model_id": "a522bd5b3e494373bf0192c0de9ed49f",
       "version_major": 2,
       "version_minor": 0
      },
      "text/plain": [
       "Canvas(toolbar=Toolbar(toolitems=[('Home', 'Reset original view', 'home', 'home'), ('Back', 'Back to previous …"
      ]
     },
     "metadata": {},
     "output_type": "display_data"
    },
    {
     "data": {
      "text/plain": [
       "<matplotlib.image.AxesImage at 0x2285143f370>"
      ]
     },
     "execution_count": 26,
     "metadata": {},
     "output_type": "execute_result"
    }
   ],
   "source": [
    "# Create map\n",
    "hist, bxe, bye = numpy.histogram2d(\n",
    "    Xumap[:, 0], Xumap[:, 1], bins=(100, 100), density=True\n",
    ")\n",
    "\n",
    "# Smooth the map by sigma (i. e. quick and dirty kde=kernel density estimation)\n",
    "hist_kde = filters.gaussian(hist, sigma=1.0, preserve_range=True)\n",
    "\n",
    "# show\n",
    "%matplotlib widget\n",
    "plt.imshow(hist_kde ** 1 / 30, cmap=\"magma\")"
   ]
  },
  {
   "cell_type": "markdown",
   "metadata": {},
   "source": [
    "### 7. Interactive skelton / map viewer"
   ]
  },
  {
   "cell_type": "code",
   "execution_count": 79,
   "metadata": {},
   "outputs": [
    {
     "data": {
      "application/vnd.jupyter.widget-view+json": {
       "model_id": "dc22ccaa32014ac794379d89d2832c21",
       "version_major": 2,
       "version_minor": 0
      },
      "text/plain": [
       "VBox(children=(Canvas(toolbar=Toolbar(toolitems=[('Home', 'Reset original view', 'home', 'home'), ('Back', 'Ba…"
      ]
     },
     "metadata": {},
     "output_type": "display_data"
    }
   ],
   "source": [
    "%matplotlib widget\n",
    "\n",
    "\n",
    "def show_skleton_viewer(tadpole, Map, Xumap, video_shape=(800, 500), track_idx=0):\n",
    "    \"\"\"\n",
    "    Interactive viewer to visualize MotionMapper result\n",
    "\n",
    "    \"\"\"\n",
    "    x_view = [-video_shape[1] // 2, video_shape[1] // 2]\n",
    "    y_view = [-video_shape[0] // 2, video_shape[0] // 2]\n",
    "\n",
    "    slider = ipywidgets.IntSlider(\n",
    "        description=\"Time (frame)\",\n",
    "        value=0,\n",
    "        min=0,\n",
    "        max=Xumap.shape[0] - 1,\n",
    "        continuous_update=True,\n",
    "        style={\"min_width\": 300, \"max_width\": 300},\n",
    "    )\n",
    "    plt.ioff()\n",
    "\n",
    "    fig, axs = plt.subplots(1, 2, figsize=(10, 4))\n",
    "\n",
    "    # needed for scaling the map to the right corresponing values\n",
    "    y0, y1 = Xumap[:, 1].min(), Xumap[:, 1].max()\n",
    "    x0, x1 = Xumap[:, 0].min(), Xumap[:, 0].max()\n",
    "\n",
    "    # Show Map (on the right)\n",
    "    axs[1].imshow(Map, extent=(x0, x1, y0, y1))\n",
    "    axs[1].set_title(\"Click on map to jump to closest frame\")\n",
    "\n",
    "    # get aligned locations for later\n",
    "    aligned_locations = tadpole.ego_locs(track_idx=track_idx)\n",
    "\n",
    "    # imshow tadpole on the left\n",
    "    gray = tadpole.ego_image(\n",
    "        frame=0, dest_height=video_shape[0], dest_width=video_shape[1], rgb=True\n",
    "    )\n",
    "    im = axs[0].imshow(\n",
    "        gray,\n",
    "        \"gray\",\n",
    "        extent=(\n",
    "            -gray.shape[1] // 2,\n",
    "            gray.shape[1] // 2,\n",
    "            -gray.shape[0] // 2,\n",
    "            gray.shape[0] // 2,\n",
    "        ),\n",
    "    )\n",
    "\n",
    "    # define callback for clicking into the Map\n",
    "    def map_click(event):\n",
    "        if event.inaxes in [axs[1]]:\n",
    "            closest_frame = numpy.argmin(\n",
    "                numpy.square(Xumap - numpy.array([event.xdata, event.ydata])).sum(1)\n",
    "            )\n",
    "            slider.value = closest_frame\n",
    "\n",
    "    cid = fig.canvas.mpl_connect(\"button_press_event\", map_click)\n",
    "\n",
    "    # show inital point in map (from frame==0)\n",
    "    umap_points = axs[1].plot(Xumap[0, 0], Xumap[0, 1], \".\", color=\"red\")[0]\n",
    "\n",
    "    # plot body part locations (on the left)\n",
    "    x_points, y_points = aligned_locations[0].T\n",
    "    points = axs[0].plot(-x_points, y_points, \"b.\", alpha=0.1)[0]\n",
    "\n",
    "    # define callback\n",
    "    def update_widgets(change):\n",
    "        # the new frame (from slider)\n",
    "        frame = change.new\n",
    "\n",
    "        # get new tadpole image\n",
    "        gray = tadpole.ego_image(\n",
    "            frame, dest_height=video_shape[0], dest_width=video_shape[1], rgb=True\n",
    "        )\n",
    "\n",
    "        # show tadpole\n",
    "        im.set_data(gray)\n",
    "\n",
    "        # update body part overlay\n",
    "        x_points, y_points = aligned_locations[frame].T\n",
    "        points.set_xdata(x_points)\n",
    "        points.set_ydata(y_points)\n",
    "\n",
    "        # update Map point on the right\n",
    "        umap_points.set_xdata(Xumap[frame, 0])\n",
    "        umap_points.set_ydata(Xumap[frame, 1])\n",
    "\n",
    "        # make sure everything is drawn\n",
    "        fig.canvas.draw()\n",
    "        fig.canvas.flush_events()\n",
    "\n",
    "    # connect callback\n",
    "    slider.observe(update_widgets, names=\"value\")\n",
    "    slider.value = 1\n",
    "\n",
    "    return ipywidgets.VBox([fig.canvas, slider])\n",
    "\n",
    "\n",
    "# get\n",
    "show_skleton_viewer(Tadpoles[0], hist_kde, Xumaps[0])"
   ]
  },
  {
   "cell_type": "code",
   "execution_count": 74,
   "metadata": {},
   "outputs": [
    {
     "name": "stdout",
     "output_type": "stream",
     "text": [
      "Warning: Cannot change to a different GUI toolkit: qt5. Using widget instead.\n"
     ]
    },
    {
     "data": {
      "application/vnd.jupyter.widget-view+json": {
       "model_id": "2879f2c17878403e83e06c30395bf916",
       "version_major": 2,
       "version_minor": 0
      },
      "text/plain": [
       "Canvas(toolbar=Toolbar(toolitems=[('Home', 'Reset original view', 'home', 'home'), ('Back', 'Back to previous …"
      ]
     },
     "metadata": {},
     "output_type": "display_data"
    },
    {
     "data": {
      "text/plain": [
       "[<matplotlib.lines.Line2D at 0x1fa03b23ca0>]"
      ]
     },
     "execution_count": 74,
     "metadata": {},
     "output_type": "execute_result"
    }
   ],
   "source": [
    "%matplotlib qt5\n",
    "plt.imshow(\n",
    "    hist_kde,\n",
    "    extent=(Xumap[:, 1].min(), Xumap[:, 1].max(), Xumap[:, 0].min(), Xumap[:, 0].max()),\n",
    "    aspect=\"auto\",\n",
    "    origin=\"lower\",\n",
    ")\n",
    "plt.plot(*Xumap[:, ::-1].T, \"r.\", alpha=0.01)"
   ]
  },
  {
   "cell_type": "code",
   "execution_count": 57,
   "metadata": {},
   "outputs": [
    {
     "data": {
      "text/plain": [
       "(75217, 2)"
      ]
     },
     "execution_count": 57,
     "metadata": {},
     "output_type": "execute_result"
    }
   ],
   "source": [
    "Xumap[:, 0].min()"
   ]
  },
  {
   "cell_type": "code",
   "execution_count": null,
   "metadata": {},
   "outputs": [],
   "source": []
  }
 ],
 "metadata": {
  "kernelspec": {
   "display_name": "Python (base_new)",
   "language": "python",
   "name": "base_new"
  },
  "language_info": {
   "codemirror_mode": {
    "name": "ipython",
    "version": 3
   },
   "file_extension": ".py",
   "mimetype": "text/x-python",
   "name": "python",
   "nbconvert_exporter": "python",
   "pygments_lexer": "ipython3",
   "version": "3.8.10"
  }
 },
 "nbformat": 4,
 "nbformat_minor": 4
}
