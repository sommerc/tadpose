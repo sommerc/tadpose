{
 "cells": [
  {
   "cell_type": "code",
   "execution_count": null,
   "metadata": {},
   "outputs": [],
   "source": [
    "import os\n",
    "import sys\n",
    "import glob\n",
    "import numpy\n",
    "import pandas\n",
    "import tadpose\n",
    "\n",
    "# mostly ploting\n",
    "import ipywidgets\n",
    "import seaborn as sns\n",
    "from tqdm.auto import tqdm\n",
    "from matplotlib import cm, colors\n",
    "from matplotlib import pyplot as plt\n",
    "\n",
    "# clustering and pca\n",
    "from sklearn.decomposition import PCA\n",
    "from sklearn.cluster import DBSCAN, KMeans\n",
    "from scipy.ndimage import gaussian_filter1d"
   ]
  },
  {
   "cell_type": "markdown",
   "metadata": {},
   "source": [
    "### Basic definitions\n",
    "* create a tadpole object\n",
    "* configure alignment"
   ]
  },
  {
   "cell_type": "code",
   "execution_count": null,
   "metadata": {
    "tags": []
   },
   "outputs": [],
   "source": [
    "# main input required. SLEAP naysis file is expected to be in same folder with ending \".predictions.analysis.h5\"\n",
    "video_fn = \"B:/fs3-bifexchgrp/BIF_StaffSci/Christoph/sweengrp/Juvenile_test/Wiping Recording bit/22-10-21_3-30pm_J11_wet2.mp4\""
   ]
  },
  {
   "cell_type": "markdown",
   "metadata": {},
   "source": [
    "### Create tadpole and aligner"
   ]
  },
  {
   "cell_type": "code",
   "execution_count": null,
   "metadata": {},
   "outputs": [],
   "source": [
    "# create Tadpole object\n",
    "tadpole = tadpose.Tadpole.from_sleap(video_fn, bodyparts_cmap=\"tab20\")\n",
    "\n",
    "# create aligner by giving to part names and their correpsonding alignment location\n",
    "aligner = tadpose.alignment.TadpoleAligner(\n",
    "    {\"Tail_Stem\": numpy.array([0, 0.0]), \"Heart_Center\": numpy.array([0, 1.0])},\n",
    "    scale=False,\n",
    ")\n",
    "tadpole.aligner = aligner"
   ]
  },
  {
   "cell_type": "markdown",
   "metadata": {},
   "source": [
    "### Define skeleton of interest"
   ]
  },
  {
   "cell_type": "code",
   "execution_count": null,
   "metadata": {},
   "outputs": [],
   "source": [
    "leg_parts = (\n",
    "    \"Right_toe\",\n",
    "    \"Right_Foot\",\n",
    "    \"Right_Ankle\",\n",
    "    \"Right_Knee\",\n",
    "    \"Right_Hip\",\n",
    "    \"Tail_Stem\",\n",
    "    \"Left_Hip\",\n",
    "    \"Left_Knee\",\n",
    "    \"Left_Ankle\",\n",
    "    \"Left_Foot\",\n",
    "    \"Left_toe\",\n",
    ")"
   ]
  },
  {
   "cell_type": "code",
   "execution_count": null,
   "metadata": {},
   "outputs": [],
   "source": [
    "# get ego-centric locations\n",
    "part_locs = tadpole.ego_locs(parts=leg_parts)"
   ]
  },
  {
   "cell_type": "markdown",
   "metadata": {
    "tags": []
   },
   "source": [
    "### Do PCA"
   ]
  },
  {
   "cell_type": "code",
   "execution_count": null,
   "metadata": {},
   "outputs": [],
   "source": [
    "X = part_locs.reshape(part_locs.shape[0], -1)\n",
    "\n",
    "# center and make unit variance\n",
    "Xc = (X - X.mean(0)) / X.std(0)\n",
    "\n",
    "# PCA with N components\n",
    "N = 3\n",
    "\n",
    "# Xp will contain the PCA components\n",
    "pca = PCA(n_components=N)\n",
    "pca.fit(Xc)\n",
    "Xpca = pca.transform(Xc)"
   ]
  },
  {
   "cell_type": "markdown",
   "metadata": {},
   "source": [
    "### Plot randomly selected skeltons with color-coded PC"
   ]
  },
  {
   "cell_type": "code",
   "execution_count": null,
   "metadata": {},
   "outputs": [],
   "source": [
    "%matplotlib widget\n",
    "\n",
    "f, ax = plt.subplots()\n",
    "ax.set_aspect(1.0)\n",
    "\n",
    "# select PC component to plot\n",
    "pc = 0\n",
    "\n",
    "norm = colors.Normalize(vmin=-5, vmax=5, clip=True)\n",
    "for rand_ind in numpy.random.randint(X.shape[0], size=500):\n",
    "    points = X[rand_ind, :]\n",
    "    load = Xpca[rand_ind, pc]\n",
    "    color = cm.seismic(norm(load))\n",
    "    p = plt.plot(-points[::2].T, points[1::2].T, \".-\", alpha=0.2, color=color)\n",
    "\n",
    "plt.axis(\"off\")\n",
    "plt.title(\"Tracked leg points\")\n",
    "\n",
    "sm = plt.cm.ScalarMappable(cmap=\"seismic\", norm=norm)\n",
    "cbar = plt.colorbar(\n",
    "    sm,\n",
    "    fraction=0.033,\n",
    "    pad=0.04,\n",
    ")\n",
    "cbar.ax.set_ylabel(\"PC 0\")"
   ]
  },
  {
   "cell_type": "markdown",
   "metadata": {},
   "source": [
    "### Smooth a little and smoothed compute gradient "
   ]
  },
  {
   "cell_type": "code",
   "execution_count": null,
   "metadata": {},
   "outputs": [],
   "source": [
    "# get first PCA component\n",
    "pc0 = Xpca[:, 0:1]\n",
    "\n",
    "# smooth\n",
    "pc_s0 = tadpose.utils.smooth(pc0, win=5, poly=3, deriv=0)\n",
    "\n",
    "# smooth diff\n",
    "pc_s1 = tadpose.utils.smooth(pc0, win=5, poly=3, deriv=1)"
   ]
  },
  {
   "cell_type": "markdown",
   "metadata": {
    "tags": []
   },
   "source": [
    "### Interactive skelton viewer"
   ]
  },
  {
   "cell_type": "code",
   "execution_count": null,
   "metadata": {},
   "outputs": [],
   "source": [
    "def show_skleton_viewer(tadpole, X, Xp, video_shape=(300, 400)):\n",
    "    \"\"\"\n",
    "    Interactive viewer to visualize a skeleton from X together with scalar value e.g.\"Xp\".\n",
    "    Use left/right keys to go through time\n",
    "    \"\"\"\n",
    "\n",
    "    plt.ioff()\n",
    "    x_view = [-150, 150]\n",
    "    y_view = [-150, 150]\n",
    "\n",
    "    slider = ipywidgets.IntSlider(\n",
    "        description=\"Time (frame)\",\n",
    "        value=0,\n",
    "        min=0,\n",
    "        max=X.shape[0] - 1,\n",
    "        continuous_update=True,\n",
    "        style={\"min_width\": 5000},\n",
    "    )\n",
    "\n",
    "    fig, axs = plt.subplots(1, 2, figsize=(8, 5))\n",
    "    ax = axs[0]\n",
    "\n",
    "    # which pc-component to vizualize\n",
    "    pc = 0\n",
    "\n",
    "    # normalize colors for that component\n",
    "    norm = colors.Normalize(vmin=-5, vmax=5, clip=True)\n",
    "\n",
    "    def update_lines(change):\n",
    "        frame = change.new\n",
    "\n",
    "        points = X[frame, :]\n",
    "        pc_load = Xp[frame, pc]\n",
    "        color = cm.jet(norm(pc_load))\n",
    "        ax.clear()\n",
    "\n",
    "        gray = tadpole.ego_image(\n",
    "            frame, dest_height=video_shape[0], dest_width=video_shape[1], rgb=False\n",
    "        )\n",
    "        ax.imshow(\n",
    "            gray,\n",
    "            \"gray\",\n",
    "            extent=(\n",
    "                -gray.shape[1] // 2,\n",
    "                gray.shape[1] // 2,\n",
    "                -gray.shape[0] // 2,\n",
    "                gray.shape[0] // 2,\n",
    "            ),\n",
    "        )\n",
    "\n",
    "        ax.set_xticks([])\n",
    "        ax.set_yticks([])\n",
    "\n",
    "        ax.plot(points[::2].T, points[1::2].T, \".-\", alpha=1, color=color)\n",
    "        ax.set_xlim(x_view[0], x_view[1])\n",
    "        ax.set_ylim(y_view[0], y_view[1])\n",
    "\n",
    "        grad = Xp[:, 0]\n",
    "\n",
    "        axs[1].clear()\n",
    "        axs[1].plot(grad, \"-\", color=\"gray\")\n",
    "        axs[1].plot(frame, grad[frame], \".\", color=\"red\")\n",
    "        axs[1].set_xlim(frame - 35, frame + 35)\n",
    "        axs[1].set_ylabel(\"PC 0\")\n",
    "        axs[1].set_xlabel(\"Time (frames)\")\n",
    "        axs[1].set_xticks([frame - 30, frame, frame + 30])\n",
    "        axs[1].set_xticklabels(list(map(str, [frame - 30, frame, frame + 30])))\n",
    "\n",
    "        fig.canvas.draw()\n",
    "        fig.canvas.flush_events()\n",
    "\n",
    "    slider.observe(update_lines, names=\"value\")\n",
    "    slider.value = 1\n",
    "\n",
    "    return ipywidgets.VBox([fig.canvas, slider])"
   ]
  },
  {
   "cell_type": "code",
   "execution_count": null,
   "metadata": {},
   "outputs": [],
   "source": [
    "%matplotlib widget\n",
    "show_skleton_viewer(tadpole, X, pc_s0)\n",
    "# show_skleton_viewer(tadpole, X, pc_s1)"
   ]
  }
 ],
 "metadata": {
  "kernelspec": {
   "display_name": "Python 3 (ipykernel)",
   "language": "python",
   "name": "python3"
  },
  "language_info": {
   "codemirror_mode": {
    "name": "ipython",
    "version": 3
   },
   "file_extension": ".py",
   "mimetype": "text/x-python",
   "name": "python",
   "nbconvert_exporter": "python",
   "pygments_lexer": "ipython3",
   "version": "3.8.10"
  }
 },
 "nbformat": 4,
 "nbformat_minor": 4
}
