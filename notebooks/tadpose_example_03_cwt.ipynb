{
 "cells": [
  {
   "cell_type": "code",
   "execution_count": null,
   "metadata": {},
   "outputs": [],
   "source": [
    "import os\n",
    "import sys\n",
    "import glob\n",
    "import time\n",
    "import numpy\n",
    "import pandas\n",
    "import tadpose\n",
    "\n",
    "# mostly ploting\n",
    "import ipywidgets\n",
    "import seaborn as sns\n",
    "from tqdm.auto import tqdm\n",
    "from matplotlib import cm, colors\n",
    "from matplotlib import pyplot as plt\n",
    "\n",
    "# umap and wavelets\n",
    "import umap # ImportError -> pip install umap-learn\n",
    "import pywt # ImportError -> pip install PyWavelets\n",
    "\n",
    "from skimage import filters\n",
    "from sklearn.decomposition import PCA\n",
    "from sklearn.manifold import TSNE\n",
    "from scipy.ndimage import gaussian_filter1d"
   ]
  },
  {
   "cell_type": "markdown",
   "metadata": {},
   "source": [
    "### 1. Select some videos "
   ]
  },
  {
   "cell_type": "code",
   "execution_count": null,
   "metadata": {},
   "outputs": [],
   "source": [
    "all_vids = glob.glob(\"B:/fs3-bifexchgrp/BIF_StaffSci/Christoph/sweengrp/Mara SLEAP/WT videos/WT-Frog-Videos/*st59.mp4\")\n",
    "all_vids"
   ]
  },
  {
   "cell_type": "markdown",
   "metadata": {},
   "source": [
    "### 2. Helper functions"
   ]
  },
  {
   "cell_type": "code",
   "execution_count": null,
   "metadata": {},
   "outputs": [],
   "source": [
    "def get_tadpole(video_fn):\n",
    "    \"\"\"\n",
    "    Helper function to create a tadpole object from video file\n",
    "    with aligner\n",
    "    \"\"\"\n",
    "    tadpole = tadpose.Tadpole.from_sleap(video_fn)\n",
    "\n",
    "    # create aligner by giving to part names and their correpsonding alignment location\n",
    "    aligner = tadpose.alignment.TadpoleAligner({'tail_stem' : numpy.array([0, 0.]), \n",
    "                                                'heart' : numpy.array([0, 1.])}, scale=False)   \n",
    "    tadpole.aligner = aligner\n",
    "    return tadpole"
   ]
  },
  {
   "cell_type": "code",
   "execution_count": null,
   "metadata": {},
   "outputs": [],
   "source": [
    "fps = 60\n",
    "\n",
    "def get_spectrograms(tadpole, scales, skel=None):\n",
    "    \"\"\"\n",
    "    Compute a wavelet based spectrogram from tadpole body parts\n",
    "    \"\"\"\n",
    "\n",
    "    if skel is None:\n",
    "        skel = tadpole.bodyparts.copy()\n",
    "        skel.remove(\"tail_stem\")\n",
    "        skel.remove(\"heart\")\n",
    "\n",
    "    # get aligned locatons for body parts in skel. Note 'skel' needs to be tuple (not list)\n",
    "    locs = tadpole.ego_locs(parts=tuple(skel))\n",
    "\n",
    "    # n == number of frames\n",
    "    n = len(locs)\n",
    "    x = numpy.arange(n)\n",
    "\n",
    "    # create spectrogram for each coordinate (x or y) of each body part\n",
    "    spectrogram = []\n",
    "    for sig in locs.reshape(n, -1).T:\n",
    "        # z-score of signal (dunno if we actually need that)\n",
    "        sig_zscore = (sig - sig.mean()) / sig.std()\n",
    "        \n",
    "        # compute complex spectrogram 'coef'. 'freqs' are the frequencies that correspond to the scales (when using fps)\n",
    "        coef, freqs = pywt.cwt(sig_zscore, scales, 'cmorl1.5-1.0', sampling_period=1/fps)\n",
    "        spectrogram.append(numpy.abs(coef).T)\n",
    "\n",
    "    spectrogram = numpy.concatenate(spectrogram, axis=1)\n",
    "    return spectrogram"
   ]
  },
  {
   "cell_type": "markdown",
   "metadata": {},
   "source": [
    "### 3. Choose scales for wavelet transfrom"
   ]
  },
  {
   "cell_type": "code",
   "execution_count": null,
   "metadata": {},
   "outputs": [],
   "source": [
    "%matplotlib widget\n",
    "\n",
    "N = 25\n",
    "\n",
    "# create N=25 dyadically spaced scales, 25 is what they used in motionmapper\n",
    "scales = numpy.power(2, numpy.linspace(1, 6, N)) # <- dyadic\n",
    "#scales = numpy.linspace(1,60, N) # <- naiv (probably not as good as dyadic, but not sure)\n",
    "\n",
    "# map the chosen scales to frequency\n",
    "frequencies = pywt.scale2frequency('cmor1.5-1.0', scales) / (1/fps)\n",
    "\n",
    "# plot which scale correspond to which freq.\n",
    "f, ax = plt.subplots()\n",
    "ax.plot(scales, frequencies, \"b.\")\n",
    "ax.set_xlabel(\"Input scales for wavelet transform\")\n",
    "ax.set_ylabel(f\"Corresponding frequency at movie fps of {fps}\")\n",
    "print(f\"Scales range from {frequencies.min()} to {frequencies.max()} Hz\")\n"
   ]
  },
  {
   "cell_type": "markdown",
   "metadata": {},
   "source": [
    "### 4. Compute spectrograms for all tadpoles"
   ]
  },
  {
   "cell_type": "code",
   "execution_count": null,
   "metadata": {},
   "outputs": [],
   "source": [
    "Tadpoles     = []\n",
    "Spectrograms = []\n",
    "for video_fn in all_vids:\n",
    "    print(video_fn)\n",
    "    tadpole = get_tadpole(video_fn)\n",
    "    Tadpoles.append(tadpole)\n",
    "    spec = get_spectrograms(tadpole, scales, skel=None) # use 'skel=[\"left_leg\", ...]'' for reduced body part list\n",
    "    Spectrograms.append(spec)\n",
    "    \n",
    "# Merge all spectrograms into single matrix\n",
    "all_spectrograms = numpy.concatenate(Spectrograms)\n",
    "print(\"all_spectrograms.shape\", all_spectrograms.shape)"
   ]
  },
  {
   "cell_type": "code",
   "execution_count": null,
   "metadata": {},
   "outputs": [],
   "source": []
  },
  {
   "cell_type": "code",
   "execution_count": null,
   "metadata": {},
   "outputs": [],
   "source": [
    "# show a single spectrogram\n",
    "%matplotlib widget\n",
    "f, ax = plt.subplots()\n",
    "ax.imshow(Spectrograms[3]) \n",
    "ax.set_aspect(0.05) # aspect ratio of plot, otherwise to narrow\n",
    "ax.set_ylabel(\"Time (frames)\")\n",
    "ax.set_xlabel(\"Spectrogram values of skels\")"
   ]
  },
  {
   "cell_type": "markdown",
   "metadata": {},
   "source": [
    "### 5. Reduce dimensions of spectrograms with PCA"
   ]
  },
  {
   "cell_type": "code",
   "execution_count": null,
   "metadata": {},
   "outputs": [],
   "source": [
    "# The data to reduce\n",
    "X = all_spectrograms.copy()\n",
    "\n",
    "# get means and std\n",
    "Xmeans = X.mean(0)\n",
    "Xstds  = X.std(0)\n",
    "\n",
    "# z-score data for pca\n",
    "Xzs  = (X - Xmeans ) / Xstds\n",
    "\n",
    "# compute global PCA such that 95% of variance is explained \n",
    "pca  = PCA(n_components=0.95)\n",
    "Xpca = pca.fit_transform(Xzs)\n",
    "\n",
    "print(f\"PCA reduced dimension from {X.shape} to {Xpca.shape}\")\n",
    "\n",
    "# transfrom each single spectrogram with the global PCA\n",
    "Xpcas = [pca.transform((spec-Xmeans) / Xstds) for spec in Spectrograms]"
   ]
  },
  {
   "cell_type": "code",
   "execution_count": null,
   "metadata": {},
   "outputs": [],
   "source": []
  },
  {
   "cell_type": "markdown",
   "metadata": {},
   "source": [
    "#### 6. Apply embedding (TSNE or UMAP) and create map"
   ]
  },
  {
   "cell_type": "code",
   "execution_count": null,
   "metadata": {},
   "outputs": [],
   "source": [
    "# TSNE (takes very loong, using umap)\n",
    "Xtsne = TSNE(n_components=2, n_jobs=6).fit_transform(Xpca)\n",
    "\n",
    "# Create map\n",
    "hist, bxe, bye =  numpy.histogram2d(Xtsne[:,0], Xtsne[:,1], bins=(100,100), density=True)\n",
    "\n",
    "# Smooth the map by sigma\n",
    "hist_kde       = filters.gaussian(hist, sigma=0.5, preserve_range=True)\n",
    "\n",
    "# show\n",
    "%matplotlib widget\n",
    "plt.imshow(hist_kde, cmap=\"magma\")"
   ]
  },
  {
   "cell_type": "markdown",
   "metadata": {},
   "source": [
    "#### UMAP"
   ]
  },
  {
   "cell_type": "code",
   "execution_count": null,
   "metadata": {},
   "outputs": [],
   "source": [
    "# global umap\n",
    "mapper = umap.UMAP(n_components=2)\n",
    "Xumap = mapper.fit_transform(Xpca)\n",
    "\n",
    "# single umap transforms\n",
    "Xumaps = [mapper.transform(xpca) for xpca in Xpcas]"
   ]
  },
  {
   "cell_type": "code",
   "execution_count": null,
   "metadata": {},
   "outputs": [],
   "source": [
    "# Create map\n",
    "hist, bxe, bye =  numpy.histogram2d(Xumap[:,0], Xumap[:,1], bins=(100,100), density=True)\n",
    "\n",
    "# Smooth the map by sigma (i. e. quick and dirty kde=kernel density estimation)\n",
    "hist_kde = filters.gaussian(hist, sigma=1., preserve_range=True)\n",
    "\n",
    "# show\n",
    "%matplotlib widget\n",
    "plt.imshow(hist_kde, cmap=\"magma\")"
   ]
  },
  {
   "cell_type": "code",
   "execution_count": null,
   "metadata": {},
   "outputs": [],
   "source": []
  },
  {
   "cell_type": "markdown",
   "metadata": {},
   "source": [
    "### 7. Interactive skelton / map viewer"
   ]
  },
  {
   "cell_type": "code",
   "execution_count": null,
   "metadata": {},
   "outputs": [],
   "source": [
    "%matplotlib widget\n",
    "\n",
    "def show_skleton_viewer(tadpole, Map, Xumap, video_shape=(800, 500), track_idx=0):\n",
    "    \"\"\"\n",
    "    Interactive viewer to visualize MotionMapper result\n",
    "    \n",
    "    \"\"\"\n",
    "    x_view = [-video_shape[1]//2, video_shape[1]//2]\n",
    "    y_view = [-video_shape[0]//2, video_shape[0]//2]\n",
    "\n",
    "    slider = ipywidgets.IntSlider(\n",
    "        description=\"Time (frame)\",\n",
    "        value=0,\n",
    "        min=0,\n",
    "        max=Xumap.shape[0]-1, continuous_update=True,\n",
    "        style={'min_width': 300, 'max_width': 300}\n",
    "    )\n",
    "    plt.ioff()\n",
    "    \n",
    "    fig, axs = plt.subplots(1,2, figsize=(10,4))\n",
    "    \n",
    "    # needed for scaling the map to the right corresponing values\n",
    "    y0, y1 = Xumap[:,1].min(), Xumap[:,1].max()\n",
    "    x0, x1 = Xumap[:,0].min(), Xumap[:,0].max()\n",
    "    \n",
    "    # Show Map (on the right)\n",
    "    axs[1].imshow(Map, extent=(x0,x1, y0,y1))\n",
    "    axs[1].set_title(\"Click on map to jump to closest frame\")\n",
    "    \n",
    "    # get aligned locations for later\n",
    "    aligned_locations = tadpole.ego_locs(track_idx=track_idx)\n",
    "    \n",
    "    # imshow tadpole on the left \n",
    "    gray = tadpole.ego_image(frame=0, dest_height=video_shape[0], dest_width=video_shape[1], rgb=True)\n",
    "    im = axs[0].imshow(gray, \"gray\", extent=(-gray.shape[1]//2, gray.shape[1]//2, -gray.shape[0]//2, gray.shape[0]//2), )\n",
    "    \n",
    "    # define callback for clicking into the Map\n",
    "    def map_click(event):\n",
    "        if event.inaxes in [axs[1]]:\n",
    "            closest_frame = numpy.argmin(numpy.square(Xumap - numpy.array([event.xdata, event.ydata])).sum(1))\n",
    "            slider.value = closest_frame\n",
    "    cid = fig.canvas.mpl_connect('button_press_event', map_click)\n",
    "    \n",
    "    # show inital point in map (from frame==0)\n",
    "    umap_points = axs[1].plot(Xumap[0, 0], Xumap[0, 1], \".\", color=\"red\")[0]\n",
    "    \n",
    "    # plot body part locations (on the left)\n",
    "    x_points, y_points = aligned_locations[0].T\n",
    "    points = axs[0].plot(-x_points, y_points, \"b.\")[0]\n",
    "\n",
    "    # define callback \n",
    "    def update_widgets(change):\n",
    "        # the new frame (from slider)\n",
    "        frame = change.new\n",
    "        \n",
    "        # get new tadpole image\n",
    "        gray = tadpole.ego_image(frame, dest_height=video_shape[0], dest_width=video_shape[1], rgb=True)\n",
    "        \n",
    "        # show tadpole\n",
    "        im.set_data(gray)\n",
    "\n",
    "        # update body part overlay\n",
    "        x_points, y_points = aligned_locations[frame].T\n",
    "        points.set_xdata(-x_points)\n",
    "        points.set_ydata(y_points)\n",
    "        \n",
    "        # update Map point on the right\n",
    "        umap_points.set_xdata(Xumap[frame, 0])\n",
    "        umap_points.set_ydata(Xumap[frame, 1])\n",
    "\n",
    "        # make sure everything is drawn\n",
    "        fig.canvas.draw()\n",
    "        fig.canvas.flush_events()\n",
    "        \n",
    "    # connect callback\n",
    "    slider.observe(update_widgets, names='value')\n",
    "    slider.value=1\n",
    "    \n",
    "    return ipywidgets.VBox([fig.canvas, slider])\n",
    "\n",
    "# get \n",
    "show_skleton_viewer(Tadpoles[0], hist_kde, Xumaps[0])\n"
   ]
  },
  {
   "cell_type": "code",
   "execution_count": null,
   "metadata": {},
   "outputs": [],
   "source": []
  }
 ],
 "metadata": {
  "kernelspec": {
   "display_name": "Python (base_new)",
   "language": "python",
   "name": "base_new"
  },
  "language_info": {
   "codemirror_mode": {
    "name": "ipython",
    "version": 3
   },
   "file_extension": ".py",
   "mimetype": "text/x-python",
   "name": "python",
   "nbconvert_exporter": "python",
   "pygments_lexer": "ipython3",
   "version": "3.8.10"
  }
 },
 "nbformat": 4,
 "nbformat_minor": 4
}
