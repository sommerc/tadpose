{
 "cells": [
  {
   "cell_type": "code",
   "execution_count": null,
   "metadata": {},
   "outputs": [],
   "source": [
    "import os\n",
    "import sys\n",
    "import glob\n",
    "import numpy\n",
    "import pandas\n",
    "from tqdm.auto import tqdm\n",
    "\n",
    "# analysis\n",
    "import tadpose\n",
    "from tadpose.analysis import BatchGrouper\n",
    "from tadpose.utils import create_experiment_table\n",
    "from tadpose import plot\n",
    "\n",
    "from scipy.ndimage import gaussian_filter1d\n",
    "\n",
    "# ploting\n",
    "import seaborn as sns\n",
    "from matplotlib import pyplot as plt"
   ]
  },
  {
   "cell_type": "code",
   "execution_count": null,
   "metadata": {},
   "outputs": [],
   "source": [
    "%load_ext autoreload\n",
    "%autoreload 2"
   ]
  },
  {
   "cell_type": "markdown",
   "metadata": {},
   "source": [
    "### Create experiment table (if not done before)"
   ]
  },
  {
   "cell_type": "code",
   "execution_count": null,
   "metadata": {},
   "outputs": [],
   "source": [
    "exp_table, exp_table_path = create_experiment_table()\n",
    "exp_table"
   ]
  },
  {
   "cell_type": "markdown",
   "metadata": {},
   "source": [
    "### Setup alinger"
   ]
  },
  {
   "cell_type": "code",
   "execution_count": null,
   "metadata": {},
   "outputs": [],
   "source": [
    "aligner = tadpose.alignment.TadpoleAligner(\n",
    "    {\"Tail_Stem\": numpy.array([0, 0.0]), \"Heart_Center\": numpy.array([0, 1.0])},\n",
    "    scale=False,\n",
    ")"
   ]
  },
  {
   "cell_type": "markdown",
   "metadata": {},
   "source": [
    "### BatchGrouper object"
   ]
  },
  {
   "cell_type": "code",
   "execution_count": null,
   "metadata": {},
   "outputs": [],
   "source": [
    "BG = BatchGrouper(\n",
    "    exp_table=\"B:/fs3-bifexchgrp/BIF_StaffSci/Christoph/sweengrp/WT-Series/dataset_01/dataset_01.tab\",\n",
    "    aligner=aligner,\n",
    "    output_grouped_by=\"Stage\",\n",
    ")"
   ]
  },
  {
   "cell_type": "markdown",
   "metadata": {},
   "source": [
    "### Configure plots"
   ]
  },
  {
   "cell_type": "code",
   "execution_count": null,
   "metadata": {},
   "outputs": [],
   "source": [
    "# Usual scatter plot\n",
    "hm = plot.HeatMap(N_max=2000, contour=False, scatter=True)\n",
    "\n",
    "# Dish plot\n",
    "dm = plot.DishMovement(part=\"Heart_Center\", color=\"orange\", lw=1, ls=\"-.\")\n",
    "\n",
    "# SpeedMaps\n",
    "sm1 = plot.SpeedMap(cmap=\"gray_r\", figsize=(20, 8))\n",
    "sm2 = plot.SpeedMap(\n",
    "    parts=(\"Heart_Center\",), ego=False, vmax=10, cmap=\"gray_r\", figsize=(20, 2)\n",
    ")\n",
    "\n",
    "# Speed boxplots\n",
    "sb = plot.SpeedBox(ego=True, cmap=\"Reds\")"
   ]
  },
  {
   "cell_type": "markdown",
   "metadata": {},
   "source": [
    "### Iterate over batch grouper object and plot by calling configured plot object\n",
    "each iteration will yield `(tad, grp, ind, row_info)`\n",
    "* tad: tadpole object\n",
    "* grp: name of the group\n",
    "* ind: index into experiment table (usefull for writing results back)\n",
    "* row_info: the row from the experiment table"
   ]
  },
  {
   "cell_type": "code",
   "execution_count": null,
   "metadata": {},
   "outputs": [],
   "source": [
    "# example plotting\n",
    "for tad, grp, ind, row_info in tqdm(BG):\n",
    "    # create output dir\n",
    "    plot_dir = (\n",
    "        f\"B:/fs3-bifexchgrp/BIF_StaffSci/Christoph/sweengrp/WT-Series/dataset_01/{grp}\"\n",
    "    )\n",
    "    os.makedirs(plot_dir, exist_ok=True)\n",
    "\n",
    "    # do actual plotting\n",
    "    hm(tad, row_info, outdir=plot_dir)\n",
    "    dm(tad, row_info, outdir=plot_dir)\n",
    "    sm1(tad, row_info, outdir=plot_dir)\n",
    "    sm2(tad, row_info, outdir=plot_dir)\n",
    "    sb(tad, row_info, outdir=plot_dir)"
   ]
  },
  {
   "cell_type": "code",
   "execution_count": null,
   "metadata": {},
   "outputs": [],
   "source": []
  }
 ],
 "metadata": {
  "kernelspec": {
   "display_name": "Python (base_new)",
   "language": "python",
   "name": "base_new"
  },
  "language_info": {
   "codemirror_mode": {
    "name": "ipython",
    "version": 3
   },
   "file_extension": ".py",
   "mimetype": "text/x-python",
   "name": "python",
   "nbconvert_exporter": "python",
   "pygments_lexer": "ipython3",
   "version": "3.8.10"
  }
 },
 "nbformat": 4,
 "nbformat_minor": 4
}
