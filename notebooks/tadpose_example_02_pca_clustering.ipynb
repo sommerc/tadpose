{
 "cells": [
  {
   "cell_type": "code",
   "execution_count": 1,
   "metadata": {},
   "outputs": [],
   "source": [
    "import os\n",
    "import sys\n",
    "import glob\n",
    "import numpy\n",
    "import pandas\n",
    "import tadpose\n",
    "\n",
    "# mostly ploting\n",
    "import ipywidgets\n",
    "import seaborn as sns\n",
    "from tqdm.auto import tqdm\n",
    "from matplotlib import cm, colors\n",
    "from matplotlib import pyplot as plt\n",
    "\n",
    "# clustering and pca\n",
    "from sklearn.decomposition import PCA\n",
    "from sklearn.cluster import DBSCAN, KMeans\n",
    "from scipy.ndimage import gaussian_filter1d"
   ]
  },
  {
   "cell_type": "markdown",
   "metadata": {},
   "source": [
    "### Basic definitions\n",
    "* create a tadpole object\n",
    "* configure alignment"
   ]
  },
  {
   "cell_type": "code",
   "execution_count": 2,
   "metadata": {
    "tags": []
   },
   "outputs": [],
   "source": [
    "# main input required. SLEAP naysis file is expected to be in same folder with ending \".predictions.analysis.h5\"\n",
    "video_fn = \"B:/fs3-bifexchgrp/BIF_StaffSci/Christoph/sweengrp/tadpose_examples/Tad1_Take1_oursNOGFP_st59.mp4\""
   ]
  },
  {
   "cell_type": "code",
   "execution_count": 3,
   "metadata": {},
   "outputs": [],
   "source": [
    "# create Tadpole object\n",
    "tadpole = tadpose.Tadpole.from_sleap(video_fn)\n",
    "\n",
    "# create aligner by giving to part names and their correpsonding alignment location\n",
    "aligner = tadpose.alignment.TadpoleAligner({'tail1' : numpy.array([0, 0.]), \n",
    "                                            'heart' : numpy.array([0, 1.])}, scale=False)   \n",
    "tadpole.aligner = aligner"
   ]
  },
  {
   "cell_type": "markdown",
   "metadata": {},
   "source": [
    "### Export aligned movie (takes a while) "
   ]
  },
  {
   "cell_type": "code",
   "execution_count": 4,
   "metadata": {},
   "outputs": [],
   "source": [
    "#tadpole.export_aligned_movie(dest_height=600, dest_width=200, just_frames=True)"
   ]
  },
  {
   "cell_type": "markdown",
   "metadata": {},
   "source": [
    "### Define skeleton of interest"
   ]
  },
  {
   "cell_type": "code",
   "execution_count": 5,
   "metadata": {},
   "outputs": [],
   "source": [
    "cluster_columns = [\"tail1\", \"kneeL\", \"ankleL\", \"hindlimbL\"] # left limb\n",
    "# cluster_columns = [\"tail1\", \"tail2\", \"tail3\", \"tailtip\"] # lail"
   ]
  },
  {
   "cell_type": "markdown",
   "metadata": {},
   "source": [
    "### Setup"
   ]
  },
  {
   "cell_type": "code",
   "execution_count": 6,
   "metadata": {},
   "outputs": [
    {
     "name": "stdout",
     "output_type": "stream",
     "text": [
      "[[[ 583.99560547  719.71954346]\n",
      "  [ 495.85687256  651.80908203]]\n",
      "\n",
      " [[ 583.98529053  712.22540283]\n",
      "  [ 492.1763916   643.94378662]]\n",
      "\n",
      " [[ 584.03039551  703.85919189]\n",
      "  [ 491.8130188   639.82946777]]\n",
      "\n",
      " ...\n",
      "\n",
      " [[1060.3125      883.70074463]\n",
      "  [1143.92565918  964.27752686]]\n",
      "\n",
      " [[1060.30578613  883.65924072]\n",
      "  [1143.94506836  964.2052002 ]]\n",
      "\n",
      " [[1060.30407715  883.65789795]\n",
      "  [1143.94494629  964.20507812]]]\n"
     ]
    },
    {
     "name": "stderr",
     "output_type": "stream",
     "text": [
      "c:\\users\\csommer\\anaconda3\\envs\\base_new\\lib\\site-packages\\numpy\\linalg\\linalg.py:2158: RuntimeWarning: invalid value encountered in det\n",
      "  r = _umath_linalg.det(a, signature=signature)\n"
     ]
    }
   ],
   "source": [
    "df = tadpole.locations\n",
    "df_aligned = tadpole.aligned_locations"
   ]
  },
  {
   "cell_type": "markdown",
   "metadata": {},
   "source": [
    "### Extract aligned bodypart locations (without liklihood column)"
   ]
  },
  {
   "cell_type": "code",
   "execution_count": 7,
   "metadata": {},
   "outputs": [],
   "source": [
    "# cryptic one-liner to get x, y coordinates for parts in cluster_columns \n",
    "X = df_aligned.loc[:, df_aligned.columns.get_level_values(1)!='likelihood'][cluster_columns]\n",
    "\n",
    "# the coordinates might contain NaNs (one a part was not detected)\n",
    "# we have to handle this, since otherwise PCA would fail\n",
    "X = X.to_numpy()\n",
    "X_is_nan = numpy.any(numpy.isnan(X), axis=1)"
   ]
  },
  {
   "cell_type": "markdown",
   "metadata": {},
   "source": [
    "### Do PCA"
   ]
  },
  {
   "cell_type": "code",
   "execution_count": 8,
   "metadata": {},
   "outputs": [],
   "source": [
    "# subtract mean and scale to unit length \n",
    "Xn = (X[~X_is_nan,:] - X[~X_is_nan,:].mean(0)) / X[~X_is_nan,:].std(0)\n",
    "\n",
    "# PCA with N components\n",
    "N = 4\n",
    "Xp = numpy.zeros((len(X), N))\n",
    "\n",
    "# Xp will contain the PCA components\n",
    "pca = PCA(n_components=N)\n",
    "pca.fit(Xn)\n",
    "Xp[~X_is_nan, :] = pca.transform(Xn)\n"
   ]
  },
  {
   "cell_type": "markdown",
   "metadata": {},
   "source": [
    "### Plot randomly selected skeltons with color-coded PC"
   ]
  },
  {
   "cell_type": "code",
   "execution_count": 9,
   "metadata": {},
   "outputs": [
    {
     "data": {
      "application/vnd.jupyter.widget-view+json": {
       "model_id": "fbc8e56fe581425894493de3ba0714b1",
       "version_major": 2,
       "version_minor": 0
      },
      "text/plain": [
       "Canvas(toolbar=Toolbar(toolitems=[('Home', 'Reset original view', 'home', 'home'), ('Back', 'Back to previous …"
      ]
     },
     "metadata": {},
     "output_type": "display_data"
    }
   ],
   "source": [
    "%matplotlib widget\n",
    "\n",
    "f, ax = plt.subplots()\n",
    "ax.set_aspect(1.)\n",
    "\n",
    "# select PC component to plot\n",
    "pc = 0\n",
    "\n",
    "norm = colors.Normalize(vmin=Xp[:, pc].min(), vmax=Xp[:, pc].max())\n",
    "for rand_ind in numpy.random.randint(X.shape[0], size=200):\n",
    "    points = X[rand_ind, :]\n",
    "    load   = Xp[rand_ind, pc]\n",
    "    color = cm.jet(norm(load)) \n",
    "    plt.plot(-points[::2].T, points[1::2].T, \".-\",  alpha=0.2, color=color)\n"
   ]
  },
  {
   "cell_type": "markdown",
   "metadata": {},
   "source": [
    "### Cluster PCA components into K clusters and plot skeltons color-coded cluster asignment"
   ]
  },
  {
   "cell_type": "code",
   "execution_count": 10,
   "metadata": {},
   "outputs": [],
   "source": [
    "K = 5\n",
    "km = KMeans(K)\n",
    "labels = km.fit_predict(Xp)"
   ]
  },
  {
   "cell_type": "code",
   "execution_count": 11,
   "metadata": {},
   "outputs": [
    {
     "data": {
      "application/vnd.jupyter.widget-view+json": {
       "model_id": "4d14d6e8bb114fd8be1fcb22c42d6246",
       "version_major": 2,
       "version_minor": 0
      },
      "text/plain": [
       "Canvas(toolbar=Toolbar(toolitems=[('Home', 'Reset original view', 'home', 'home'), ('Back', 'Back to previous …"
      ]
     },
     "metadata": {},
     "output_type": "display_data"
    }
   ],
   "source": [
    "f, ax = plt.subplots()\n",
    "ax.set_aspect(1.)\n",
    "for l in numpy.unique(labels):\n",
    "    color = next(ax._get_lines.prop_cycler)['color']\n",
    "    Xl = X[labels==l, :]\n",
    "    idx = numpy.random.randint(Xl.shape[0], size=200)\n",
    "    \n",
    "    points = Xl[idx, :]\n",
    "    \n",
    "    plt.plot(-points[:, ::2].T, points[:, 1::2].T, \".-\", label=l, alpha=0.1, color=color)\n",
    "    \n"
   ]
  },
  {
   "cell_type": "markdown",
   "metadata": {},
   "source": [
    "### Interactive skelton viewer"
   ]
  },
  {
   "cell_type": "code",
   "execution_count": 12,
   "metadata": {},
   "outputs": [
    {
     "name": "stdout",
     "output_type": "stream",
     "text": [
      "[[[583.98529053 712.22540283]\n",
      "  [492.1763916  643.94378662]]]\n"
     ]
    },
    {
     "data": {
      "application/vnd.jupyter.widget-view+json": {
       "model_id": "91dd965404d141c08a177eb83b7874c7",
       "version_major": 2,
       "version_minor": 0
      },
      "text/plain": [
       "VBox(children=(Canvas(toolbar=Toolbar(toolitems=[('Home', 'Reset original view', 'home', 'home'), ('Back', 'Ba…"
      ]
     },
     "metadata": {},
     "output_type": "display_data"
    }
   ],
   "source": [
    "%matplotlib widget\n",
    "\n",
    "def show_skleton_viewer(tadpole, X, Xp, video_shape=(600, 200)):\n",
    "    \"\"\"\n",
    "    Interactive viewer to visualize a skeleton from X together with scalar value \"Xp\".\n",
    "    Use left/right keys to go through time\n",
    "    \"\"\"\n",
    "    \n",
    "    plt.ioff()\n",
    "    x_view = [-100, 100]\n",
    "    y_view = [-300, 100]\n",
    "\n",
    "    slider = ipywidgets.IntSlider(\n",
    "        description=\"Time (frame)\",\n",
    "        value=0,\n",
    "        min=0,\n",
    "        max=X.shape[0]-1, continuous_update=True,\n",
    "        style={'min_width': 5000}\n",
    "    )\n",
    "\n",
    "    fig, axs = plt.subplots(1,2)\n",
    "    ax = axs[0]\n",
    "    ax.set_aspect(1.)\n",
    "\n",
    "    # which pc-component to vizualize\n",
    "    pc = 0\n",
    "    \n",
    "    # normalize colors for that component\n",
    "    norm = colors.Normalize(vmin=Xp[:, pc].min(), vmax=Xp[:, pc].max())\n",
    "\n",
    "\n",
    "    def update_lines(change):\n",
    "        frame = change.new\n",
    "        \n",
    "        points = X[frame, :]\n",
    "        pc_load   = Xp[frame, pc]\n",
    "        color = cm.jet(norm(pc_load)) \n",
    "        ax.clear()\n",
    "\n",
    "        gray = tadpole.aligned_image(frame, dest_height=video_shape[0], dest_width=video_shape[1], rgb=False)\n",
    "        ax.imshow(gray, \"gray\", extent=(-gray.shape[1]//2, gray.shape[1]//2, -gray.shape[0]//2, gray.shape[0]//2), )\n",
    "\n",
    "        ax.plot(-points[::2].T, points[1::2].T, \".-\",  alpha=1, color=color)\n",
    "        ax.set_xlim(x_view[0], x_view[1])\n",
    "        ax.set_ylim(y_view[0], y_view[1])\n",
    "\n",
    "        grad = Xp[:, 0]\n",
    "\n",
    "        axs[1].plot(grad, \".-\", color=\"gray\")\n",
    "        axs[1].plot(frame, grad[frame], \".\", color=\"red\")\n",
    "        axs[1].set_xlim(frame-100, frame+100)\n",
    "\n",
    "\n",
    "        fig.canvas.draw()\n",
    "        fig.canvas.flush_events()\n",
    "        \n",
    "\n",
    "    slider.observe(update_lines, names='value')\n",
    "    slider.value=1\n",
    "    \n",
    "    return ipywidgets.VBox([fig.canvas, slider])\n",
    "\n",
    "show_skleton_viewer(tadpole, X, Xp)"
   ]
  },
  {
   "cell_type": "code",
   "execution_count": null,
   "metadata": {},
   "outputs": [],
   "source": []
  }
 ],
 "metadata": {
  "kernelspec": {
   "display_name": "Python 3 (ipykernel)",
   "language": "python",
   "name": "python3"
  },
  "language_info": {
   "codemirror_mode": {
    "name": "ipython",
    "version": 3
   },
   "file_extension": ".py",
   "mimetype": "text/x-python",
   "name": "python",
   "nbconvert_exporter": "python",
   "pygments_lexer": "ipython3",
   "version": "3.8.10"
  }
 },
 "nbformat": 4,
 "nbformat_minor": 4
}
